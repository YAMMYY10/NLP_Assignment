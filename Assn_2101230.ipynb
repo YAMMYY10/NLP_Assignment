{
 "cells": [
  {
   "cell_type": "code",
   "execution_count": 2,
   "metadata": {},
   "outputs": [],
   "source": [
    "import pandas as pd\n",
    "import random\n",
    "import numpy as np\n",
    "import nltk\n",
    "from nltk.corpus import stopwords\n",
    "from nltk.tokenize import word_tokenize\n",
    "from sklearn.feature_extraction.text import TfidfVectorizer\n",
    "from sklearn.naive_bayes import MultinomialNB\n",
    "from sklearn.linear_model import LogisticRegression\n",
    "from sklearn.svm import SVC\n",
    "from sklearn.metrics import classification_report, confusion_matrix, accuracy_score"
   ]
  },
  {
   "cell_type": "code",
   "execution_count": 3,
   "metadata": {},
   "outputs": [],
   "source": [
    "def read_data(filename): \n",
    "    with open(filename, 'r') as f:\n",
    "        return f.readlines()"
   ]
  },
  {
   "cell_type": "code",
   "execution_count": 4,
   "metadata": {},
   "outputs": [
    {
     "name": "stderr",
     "output_type": "stream",
     "text": [
      "[nltk_data] Downloading package stopwords to\n",
      "[nltk_data]     C:\\Users\\yamin\\AppData\\Roaming\\nltk_data...\n",
      "[nltk_data]   Unzipping corpora\\stopwords.zip.\n",
      "[nltk_data] Downloading package punkt to\n",
      "[nltk_data]     C:\\Users\\yamin\\AppData\\Roaming\\nltk_data...\n",
      "[nltk_data]   Unzipping tokenizers\\punkt.zip.\n"
     ]
    },
    {
     "data": {
      "text/plain": [
       "True"
      ]
     },
     "execution_count": 4,
     "metadata": {},
     "output_type": "execute_result"
    }
   ],
   "source": [
    "nltk.download('stopwords')\n",
    "nltk.download('punkt')"
   ]
  },
  {
   "cell_type": "code",
   "execution_count": 5,
   "metadata": {},
   "outputs": [],
   "source": [
    "posi, negi = read_data('./rt-polarity.pos'), read_data('./rt-polarity.neg')"
   ]
  },
  {
   "cell_type": "code",
   "execution_count": 6,
   "metadata": {},
   "outputs": [],
   "source": [
    "def preprocess_data(text):\n",
    "    tokens = text.split()\n",
    "    tokens = [token.lower() for token in tokens]\n",
    "    stop_words = set(stopwords.words('english'))\n",
    "    tokens = [token for token in tokens if token not in stop_words and token.isalpha()]\n",
    "    return ' '.join(tokens)"
   ]
  },
  {
   "cell_type": "code",
   "execution_count": 7,
   "metadata": {},
   "outputs": [],
   "source": [
    "posi = [preprocess_data(sentence) for sentence in posi]\n",
    "negi = [preprocess_data(sentence) for sentence in negi]"
   ]
  },
  {
   "cell_type": "code",
   "execution_count": 8,
   "metadata": {},
   "outputs": [],
   "source": [
    "train_pos = posi[:4000]\n",
    "train_neg = negi[:4000] \n",
    "\n",
    "val_pos = posi[4000:4500]\n",
    "val_neg = negi[4000:4500]\n",
    "\n",
    "test_pos = posi[4500:]\n",
    "test_neg = negi[4500:]"
   ]
  },
  {
   "cell_type": "code",
   "execution_count": 9,
   "metadata": {},
   "outputs": [],
   "source": [
    "train_data = train_pos + train_neg\n",
    "train_labels = [1] * 4000 + [0] * 4000\n",
    "\n",
    "val_data = val_pos + val_neg\n",
    "val_labels = [1] * 500 + [0] * 500\n",
    "\n",
    "test_data = test_pos + test_neg\n",
    "test_labels = [1] * 831 + [0] * 831"
   ]
  },
  {
   "cell_type": "code",
   "execution_count": 10,
   "metadata": {},
   "outputs": [],
   "source": [
    "\n",
    "combined_train = list(zip(train_data, train_labels)) \n",
    "combined_val = list(zip(val_data, val_labels))\n",
    "combined_test = list(zip(test_data, test_labels))"
   ]
  },
  {
   "cell_type": "code",
   "execution_count": 11,
   "metadata": {},
   "outputs": [],
   "source": [
    "random.shuffle(combined_train)\n",
    "random.shuffle(combined_val)\n",
    "random.shuffle(combined_test)"
   ]
  },
  {
   "cell_type": "code",
   "execution_count": 12,
   "metadata": {},
   "outputs": [],
   "source": [
    "\n",
    "train_data, train_labels = zip(*combined_train)\n",
    "val_data, val_labels = zip(*combined_val)\n",
    "test_data, test_labels = zip(*combined_test)\n"
   ]
  },
  {
   "cell_type": "code",
   "execution_count": 13,
   "metadata": {},
   "outputs": [],
   "source": [
    "vectorizer = TfidfVectorizer()\n",
    "X_train = vectorizer.fit_transform(train_data)\n",
    "X_val = vectorizer.transform(val_data)\n",
    "X_test = vectorizer.transform(test_data)"
   ]
  },
  {
   "cell_type": "code",
   "execution_count": 14,
   "metadata": {},
   "outputs": [],
   "source": [
    "nb_model = MultinomialNB()\n",
    "nb_model.fit(X_train, train_labels)\n",
    "\n",
    "nb_preds = nb_model.predict(X_test)"
   ]
  },
  {
   "cell_type": "code",
   "execution_count": 15,
   "metadata": {},
   "outputs": [
    {
     "name": "stdout",
     "output_type": "stream",
     "text": [
      "Naive Bayes Report:\n",
      "              precision    recall  f1-score   support\n",
      "\n",
      "           0       0.77      0.78      0.78       831\n",
      "           1       0.78      0.77      0.78       831\n",
      "\n",
      "    accuracy                           0.78      1662\n",
      "   macro avg       0.78      0.78      0.78      1662\n",
      "weighted avg       0.78      0.78      0.78      1662\n",
      "\n",
      "Confusion Matrix (Naive Bayes):\n",
      "[[649 182]\n",
      " [190 641]]\n",
      "Accuracy Score (Naive Bayes):\n",
      "77.6173285198556\n"
     ]
    }
   ],
   "source": [
    "print(\"Naive Bayes Report:\")\n",
    "print(classification_report(test_labels, nb_preds))\n",
    "print(\"Confusion Matrix (Naive Bayes):\")\n",
    "print(confusion_matrix(test_labels, nb_preds))\n",
    "print(\"Accuracy Score (Naive Bayes):\")\n",
    "print(accuracy_score(test_labels, nb_preds)*100)"
   ]
  },
  {
   "cell_type": "code",
   "execution_count": 16,
   "metadata": {},
   "outputs": [],
   "source": [
    "log_reg_model = LogisticRegression()\n",
    "log_reg_model.fit(X_train, train_labels)\n",
    "\n",
    "log_reg_preds = log_reg_model.predict(X_test)"
   ]
  },
  {
   "cell_type": "code",
   "execution_count": 17,
   "metadata": {},
   "outputs": [
    {
     "name": "stdout",
     "output_type": "stream",
     "text": [
      "Logistic Regression Report:\n",
      "              precision    recall  f1-score   support\n",
      "\n",
      "           0       0.75      0.76      0.75       831\n",
      "           1       0.76      0.74      0.75       831\n",
      "\n",
      "    accuracy                           0.75      1662\n",
      "   macro avg       0.75      0.75      0.75      1662\n",
      "weighted avg       0.75      0.75      0.75      1662\n",
      "\n",
      "Confusion Matrix (Logistic Regression):\n",
      "[[634 197]\n",
      " [216 615]]\n",
      "Accuracy Score (Logistic Regression):\n",
      "75.15042117930204\n"
     ]
    }
   ],
   "source": [
    "print(\"Logistic Regression Report:\")\n",
    "print(classification_report(test_labels, log_reg_preds))\n",
    "print(\"Confusion Matrix (Logistic Regression):\")\n",
    "print(confusion_matrix(test_labels, log_reg_preds))\n",
    "print(\"Accuracy Score (Logistic Regression):\")\n",
    "print(accuracy_score(test_labels, log_reg_preds)*100)"
   ]
  },
  {
   "cell_type": "code",
   "execution_count": 18,
   "metadata": {},
   "outputs": [],
   "source": [
    "svm_model = SVC()\n",
    "svm_model.fit(X_train, train_labels)\n",
    "\n",
    "svm_preds = svm_model.predict(X_test)"
   ]
  },
  {
   "cell_type": "code",
   "execution_count": 19,
   "metadata": {},
   "outputs": [
    {
     "name": "stdout",
     "output_type": "stream",
     "text": [
      "SVM Report:\n",
      "              precision    recall  f1-score   support\n",
      "\n",
      "           0       0.74      0.78      0.76       831\n",
      "           1       0.77      0.73      0.75       831\n",
      "\n",
      "    accuracy                           0.75      1662\n",
      "   macro avg       0.75      0.75      0.75      1662\n",
      "weighted avg       0.75      0.75      0.75      1662\n",
      "\n",
      "Confusion Matrix (SVM):\n",
      "[[646 185]\n",
      " [227 604]]\n",
      "Accuracy Score (SVM):\n",
      "75.21058965102286\n"
     ]
    }
   ],
   "source": [
    "print(\"SVM Report:\")\n",
    "print(classification_report(test_labels, svm_preds))\n",
    "print(\"Confusion Matrix (SVM):\")\n",
    "print(confusion_matrix(test_labels, svm_preds))\n",
    "print(\"Accuracy Score (SVM):\")\n",
    "print(accuracy_score(test_labels, svm_preds)*100)"
   ]
  }
 ],
 "metadata": {
  "kernelspec": {
   "display_name": "Python 3",
   "language": "python",
   "name": "python3"
  },
  "language_info": {
   "codemirror_mode": {
    "name": "ipython",
    "version": 3
   },
   "file_extension": ".py",
   "mimetype": "text/x-python",
   "name": "python",
   "nbconvert_exporter": "python",
   "pygments_lexer": "ipython3",
   "version": "3.11.1"
  }
 },
 "nbformat": 4,
 "nbformat_minor": 2
}
